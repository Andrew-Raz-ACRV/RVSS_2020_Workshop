{
 "cells": [
  {
   "cell_type": "raw",
   "metadata": {},
   "source": [
    "Initialisation"
   ]
  },
  {
   "cell_type": "code",
   "execution_count": null,
   "metadata": {},
   "outputs": [],
   "source": [
    "import math\n",
    "import time\n",
    "import cv2\n",
    "import numpy as np\n",
    "import requests\n",
    "from pynput.keyboard import Key, Listener\n",
    "\n",
    "ip = '192.168.50.1'\n"
   ]
  },
  {
   "cell_type": "raw",
   "metadata": {},
   "source": [
    "Function declarations"
   ]
  },
  {
   "cell_type": "code",
   "execution_count": null,
   "metadata": {},
   "outputs": [],
   "source": [
    "def set_velocity(vel0, vel1):\n",
    "    r = requests.get(\"http://\"+ip+\":8080/robot/set/velocity?value=\"+str(vel0)+\",\"+str(vel1))\n",
    "\n",
    "def get_image():\n",
    "    r = requests.get(\"http://\"+ip+\":8080/camera/get\")\n",
    "    img = cv2.imdecode(np.frombuffer(r.content,np.uint8), cv2.IMREAD_COLOR)\n",
    "\n",
    "    return img\n",
    "\n",
    "def inverse_kinematics(lin_velocity, ang_velocity):\n",
    "    baseline = 0.156 # m\n",
    "    scale = 1/(5.33/1000)\n",
    "\n",
    "    orientation = np.array([[1, -baseline/2],[1, baseline/2]])\n",
    "    vel = np.array([[lin_velocity],[ang_velocity]])\n",
    "    return scale * orientation.dot(vel)"
   ]
  },
  {
   "cell_type": "raw",
   "metadata": {},
   "source": [
    "Test connection"
   ]
  },
  {
   "cell_type": "code",
   "execution_count": null,
   "metadata": {},
   "outputs": [],
   "source": [
    "def test():\n",
    "    image = get_image()\n",
    "    print(\"image size %d by %d\" % (image.shape[0],image.shape[1]))\n",
    "\n",
    "if __name__ == \"__main__\":\n",
    "    print('testing')\n",
    "    test()"
   ]
  },
  {
   "cell_type": "raw",
   "metadata": {},
   "source": [
    "Begin keyboard control"
   ]
  },
  {
   "cell_type": "code",
   "execution_count": null,
   "metadata": {},
   "outputs": [],
   "source": [
    "lin_vel = 0\n",
    "ang_vel = 0\n",
    "\n",
    "def get_keyboard_command():\n",
    "    \n",
    "    def on_press(key):\n",
    "        global lin_vel \n",
    "        global ang_vel\n",
    "        if key == Key.up:\n",
    "            lin_vel = 0.1\n",
    "            ang_vel = 0\n",
    "        if key == Key.down:\n",
    "            lin_vel = -0.1\n",
    "            ang_vel = 0\n",
    "        if key == Key.left:\n",
    "            ang_vel = 1\n",
    "            lin_vel = 0\n",
    "        if key == Key.right:\n",
    "            ang_vel = -1\n",
    "            lin_vel = 0\n",
    "        if key == Key.space:\n",
    "            ang_vel = 0\n",
    "            lin_vel = 0\n",
    "        wheel_velocities = inverse_kinematics(lin_vel, ang_vel)\n",
    "        set_velocity(int(wheel_velocities[0][0]), int(wheel_velocities[1][0]))\n",
    "        \n",
    "    def on_release(key): \n",
    "        if key == Key.esc:\n",
    "            return False\n",
    "\n",
    "    with Listener(  \n",
    "            on_press=on_press,\n",
    "            on_release=on_release) as listener:\n",
    "        listener.join() \n",
    "\n",
    "if __name__ == \"__main__\":   \n",
    "    get_keyboard_command() "
   ]
  }
 ],
 "metadata": {
  "kernelspec": {
   "display_name": "Python 3",
   "language": "python",
   "name": "python3"
  },
  "language_info": {
   "codemirror_mode": {
    "name": "ipython",
    "version": 3
   },
   "file_extension": ".py",
   "mimetype": "text/x-python",
   "name": "python",
   "nbconvert_exporter": "python",
   "pygments_lexer": "ipython3",
   "version": "3.7.4"
  }
 },
 "nbformat": 4,
 "nbformat_minor": 2
}
