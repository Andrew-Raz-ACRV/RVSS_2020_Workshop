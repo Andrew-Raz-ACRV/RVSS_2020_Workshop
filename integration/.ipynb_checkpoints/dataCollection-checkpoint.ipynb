{
 "cells": [
  {
   "cell_type": "raw",
   "metadata": {},
   "source": [
    "Initialisation"
   ]
  },
  {
   "cell_type": "code",
   "execution_count": null,
   "metadata": {},
   "outputs": [],
   "source": [
    "import math\n",
    "import time\n",
    "import cv2\n",
    "import numpy as np\n",
    "import requests\n",
    "\n",
    "ip = '192.168.50.1'\n",
    "workingDir = '/home/gerard/RVSSdata2.0/'"
   ]
  },
  {
   "cell_type": "raw",
   "metadata": {},
   "source": [
    "Function declarations and test connection"
   ]
  },
  {
   "cell_type": "code",
   "execution_count": null,
   "metadata": {},
   "outputs": [],
   "source": [
    "def get_image():\n",
    "    r = requests.get(\"http://\"+ip+\":8080/camera/get\")\n",
    "    img = cv2.imdecode(np.frombuffer(r.content,np.uint8), cv2.IMREAD_COLOR)\n",
    "\n",
    "    return img\n",
    "\n",
    "def test():\n",
    "    image = get_image()\n",
    "    print(\"image size %d by %d\" % (image.shape[0],image.shape[1]))\n",
    "\n",
    "if __name__ == \"__main__\":\n",
    "    print('testing')\n",
    "    test()  "
   ]
  },
  {
   "cell_type": "raw",
   "metadata": {},
   "source": [
    "Collect data"
   ]
  },
  {
   "cell_type": "code",
   "execution_count": null,
   "metadata": {},
   "outputs": [],
   "source": [
    "if __name__ == \"__main__\":\n",
    "    \n",
    "    trigger = True\n",
    "    count = 0\n",
    "        \n",
    "    try:\n",
    "        print('trying')\n",
    "        \n",
    "        while trigger:\n",
    "            \n",
    "            input(count)\n",
    "            image = get_image()\n",
    "            filename = \"{}{}.png\".format(workingDir,count)\n",
    "            cv2.imwrite(filename,image)\n",
    "            count+=1\n",
    "            \n",
    "            \n",
    "    except KeyboardInterrupt:\n",
    "        set_velocity(0,0)"
   ]
  }
 ],
 "metadata": {
  "kernelspec": {
   "display_name": "Python 3",
   "language": "python",
   "name": "python3"
  },
  "language_info": {
   "codemirror_mode": {
    "name": "ipython",
    "version": 3
   },
   "file_extension": ".py",
   "mimetype": "text/x-python",
   "name": "python",
   "nbconvert_exporter": "python",
   "pygments_lexer": "ipython3",
   "version": "3.7.4"
  }
 },
 "nbformat": 4,
 "nbformat_minor": 2
}
